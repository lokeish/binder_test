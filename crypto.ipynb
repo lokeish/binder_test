{
 "cells": [
  {
   "cell_type": "code",
   "execution_count": 1,
   "metadata": {},
   "outputs": [],
   "source": [
    "from Crypto.Cipher import AES\n",
    "from hashlib import sha256\n",
    "from base64 import b64encode, b64decode\n",
    "import base64\n",
    "\n",
    "\n",
    "class AESCipher:\n",
    "    def __init__(self, key):\n",
    "        self.block_size = 16\n",
    "        self.key = sha256(key.encode()).digest()[:16]\n",
    "        self.pad = lambda s: s + (self.block_size - len(s) % self.block_size) * chr(\n",
    "            self.block_size - len(s) % self.block_size)\n",
    "        self.unpad = lambda s: s[:-ord(s[len(s) - 1:])]\n",
    "\n",
    "    def encrypt(self, data):\n",
    "        \"\"\"\n",
    "        This function encrypts the data\n",
    "        :param data: Input data\n",
    "        \"\"\"\n",
    "        plain_text = self.pad(data)\n",
    "        cipher = AES.new(self.key, AES.MODE_ECB)\n",
    "        return b64encode(cipher.encrypt(plain_text.encode())).decode('utf-8')\n",
    "\n",
    "    def decrypt(self, data):\n",
    "        \"\"\"\n",
    "        This function decrypts the data\n",
    "        :param data: Input data\n",
    "        \"\"\"\n",
    "        cipher_text = base64.b64decode(data)\n",
    "        cipher = AES.new(self.key, AES.MODE_ECB)\n",
    "        dec = cipher.decrypt(cipher_text)\n",
    "        return self.unpad(dec).decode('utf-8')\n"
   ]
  },
  {
   "cell_type": "code",
   "execution_count": 2,
   "metadata": {},
   "outputs": [],
   "source": [
    "AES_obj = AESCipher(\"fb9d417e0f0a46b4ba972d5cd352024c\")"
   ]
  },
  {
   "cell_type": "code",
   "execution_count": 3,
   "metadata": {},
   "outputs": [
    {
     "data": {
      "text/plain": [
       "'EAZYPAY.573543012@ICICI'"
      ]
     },
     "execution_count": 3,
     "metadata": {},
     "output_type": "execute_result"
    }
   ],
   "source": [
    "\n",
    "v = \"WArIzxElgXlAmKlQqgLFVGSbhDzXps7Pgpe1+hK3rzc=\"\n",
    "\n",
    "AES_obj.decrypt(v).upper()"
   ]
  }
 ],
 "metadata": {
  "kernelspec": {
   "display_name": "base",
   "language": "python",
   "name": "python3"
  },
  "language_info": {
   "codemirror_mode": {
    "name": "ipython",
    "version": 3
   },
   "file_extension": ".py",
   "mimetype": "text/x-python",
   "name": "python",
   "nbconvert_exporter": "python",
   "pygments_lexer": "ipython3",
   "version": "3.9.13"
  },
  "orig_nbformat": 4,
  "vscode": {
   "interpreter": {
    "hash": "521365ae6b808714c331b7705e067d9195ac059629400bdcf9ecb5ee517b434f"
   }
  }
 },
 "nbformat": 4,
 "nbformat_minor": 2
}
